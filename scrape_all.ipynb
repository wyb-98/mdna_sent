{
 "cells": [
  {
   "cell_type": "code",
   "execution_count": 1,
   "metadata": {},
   "outputs": [],
   "source": [
    "import pandas as pd\n",
    "from edgar_func import get_form_data, get_company_basics, extract_mdna"
   ]
  },
  {
   "cell_type": "code",
   "execution_count": 2,
   "metadata": {},
   "outputs": [],
   "source": [
    "header = {'User-Agent': \"email@address.com\"}\n",
    "form_type = '10-Q'"
   ]
  },
  {
   "cell_type": "code",
   "execution_count": 3,
   "metadata": {},
   "outputs": [
    {
     "data": {
      "text/html": [
       "<div>\n",
       "<style scoped>\n",
       "    .dataframe tbody tr th:only-of-type {\n",
       "        vertical-align: middle;\n",
       "    }\n",
       "\n",
       "    .dataframe tbody tr th {\n",
       "        vertical-align: top;\n",
       "    }\n",
       "\n",
       "    .dataframe thead th {\n",
       "        text-align: right;\n",
       "    }\n",
       "</style>\n",
       "<table border=\"1\" class=\"dataframe\">\n",
       "  <thead>\n",
       "    <tr style=\"text-align: right;\">\n",
       "      <th></th>\n",
       "      <th>cik_str</th>\n",
       "      <th>ticker</th>\n",
       "      <th>title</th>\n",
       "    </tr>\n",
       "  </thead>\n",
       "  <tbody>\n",
       "    <tr>\n",
       "      <th>0</th>\n",
       "      <td>0000320193</td>\n",
       "      <td>AAPL</td>\n",
       "      <td>Apple Inc.</td>\n",
       "    </tr>\n",
       "    <tr>\n",
       "      <th>1</th>\n",
       "      <td>0000789019</td>\n",
       "      <td>MSFT</td>\n",
       "      <td>MICROSOFT CORP</td>\n",
       "    </tr>\n",
       "    <tr>\n",
       "      <th>2</th>\n",
       "      <td>0001045810</td>\n",
       "      <td>NVDA</td>\n",
       "      <td>NVIDIA CORP</td>\n",
       "    </tr>\n",
       "    <tr>\n",
       "      <th>3</th>\n",
       "      <td>0001652044</td>\n",
       "      <td>GOOGL</td>\n",
       "      <td>Alphabet Inc.</td>\n",
       "    </tr>\n",
       "    <tr>\n",
       "      <th>4</th>\n",
       "      <td>0001018724</td>\n",
       "      <td>AMZN</td>\n",
       "      <td>AMAZON COM INC</td>\n",
       "    </tr>\n",
       "  </tbody>\n",
       "</table>\n",
       "</div>"
      ],
      "text/plain": [
       "      cik_str ticker           title\n",
       "0  0000320193   AAPL      Apple Inc.\n",
       "1  0000789019   MSFT  MICROSOFT CORP\n",
       "2  0001045810   NVDA     NVIDIA CORP\n",
       "3  0001652044  GOOGL   Alphabet Inc.\n",
       "4  0001018724   AMZN  AMAZON COM INC"
      ]
     },
     "execution_count": 3,
     "metadata": {},
     "output_type": "execute_result"
    }
   ],
   "source": [
    "company_basics = get_company_basics(user_header=header)\n",
    "company_basics.head(5)"
   ]
  },
  {
   "cell_type": "code",
   "execution_count": 4,
   "metadata": {},
   "outputs": [
    {
     "name": "stdout",
     "output_type": "stream",
     "text": [
      "0001652044\n"
     ]
    }
   ],
   "source": [
    "test_cik = company_basics.cik_str.iloc[3]\n",
    "print(test_cik)"
   ]
  },
  {
   "cell_type": "code",
   "execution_count": 5,
   "metadata": {},
   "outputs": [
    {
     "data": {
      "text/html": [
       "<div>\n",
       "<style scoped>\n",
       "    .dataframe tbody tr th:only-of-type {\n",
       "        vertical-align: middle;\n",
       "    }\n",
       "\n",
       "    .dataframe tbody tr th {\n",
       "        vertical-align: top;\n",
       "    }\n",
       "\n",
       "    .dataframe thead th {\n",
       "        text-align: right;\n",
       "    }\n",
       "</style>\n",
       "<table border=\"1\" class=\"dataframe\">\n",
       "  <thead>\n",
       "    <tr style=\"text-align: right;\">\n",
       "      <th></th>\n",
       "      <th>accession_number</th>\n",
       "      <th>filingDate</th>\n",
       "      <th>reportDate</th>\n",
       "      <th>acceptanceDateTime</th>\n",
       "      <th>act</th>\n",
       "      <th>form</th>\n",
       "      <th>fileNumber</th>\n",
       "      <th>filmNumber</th>\n",
       "      <th>items</th>\n",
       "      <th>size</th>\n",
       "      <th>isXBRL</th>\n",
       "      <th>isInlineXBRL</th>\n",
       "      <th>doc_extension</th>\n",
       "      <th>primaryDocDescription</th>\n",
       "    </tr>\n",
       "  </thead>\n",
       "  <tbody>\n",
       "    <tr>\n",
       "      <th>86</th>\n",
       "      <td>000165204424000053</td>\n",
       "      <td>2024-04-26</td>\n",
       "      <td>2024-03-31</td>\n",
       "      <td>2024-04-25T20:22:11.000Z</td>\n",
       "      <td>34</td>\n",
       "      <td>10-Q</td>\n",
       "      <td>001-37580</td>\n",
       "      <td>24878285</td>\n",
       "      <td></td>\n",
       "      <td>9730858</td>\n",
       "      <td>1</td>\n",
       "      <td>1</td>\n",
       "      <td>goog-20240331.htm</td>\n",
       "      <td>10-Q</td>\n",
       "    </tr>\n",
       "    <tr>\n",
       "      <th>229</th>\n",
       "      <td>000165204423000094</td>\n",
       "      <td>2023-10-25</td>\n",
       "      <td>2023-09-30</td>\n",
       "      <td>2023-10-24T18:39:13.000Z</td>\n",
       "      <td>34</td>\n",
       "      <td>10-Q</td>\n",
       "      <td>001-37580</td>\n",
       "      <td>231343621</td>\n",
       "      <td></td>\n",
       "      <td>11654886</td>\n",
       "      <td>1</td>\n",
       "      <td>1</td>\n",
       "      <td>goog-20230930.htm</td>\n",
       "      <td>10-Q</td>\n",
       "    </tr>\n",
       "    <tr>\n",
       "      <th>267</th>\n",
       "      <td>000165204423000070</td>\n",
       "      <td>2023-07-26</td>\n",
       "      <td>2023-06-30</td>\n",
       "      <td>2023-07-25T19:13:26.000Z</td>\n",
       "      <td>34</td>\n",
       "      <td>10-Q</td>\n",
       "      <td>001-37580</td>\n",
       "      <td>231109777</td>\n",
       "      <td></td>\n",
       "      <td>11897524</td>\n",
       "      <td>1</td>\n",
       "      <td>1</td>\n",
       "      <td>goog-20230630.htm</td>\n",
       "      <td>10-Q</td>\n",
       "    </tr>\n",
       "    <tr>\n",
       "      <th>354</th>\n",
       "      <td>000165204423000045</td>\n",
       "      <td>2023-04-26</td>\n",
       "      <td>2023-03-31</td>\n",
       "      <td>2023-04-25T20:15:00.000Z</td>\n",
       "      <td>34</td>\n",
       "      <td>10-Q</td>\n",
       "      <td>001-37580</td>\n",
       "      <td>23846486</td>\n",
       "      <td></td>\n",
       "      <td>10731987</td>\n",
       "      <td>1</td>\n",
       "      <td>1</td>\n",
       "      <td>goog-20230331.htm</td>\n",
       "      <td>10-Q</td>\n",
       "    </tr>\n",
       "    <tr>\n",
       "      <th>468</th>\n",
       "      <td>000165204422000090</td>\n",
       "      <td>2022-10-26</td>\n",
       "      <td>2022-09-30</td>\n",
       "      <td>2022-10-25T21:32:59.000Z</td>\n",
       "      <td>34</td>\n",
       "      <td>10-Q</td>\n",
       "      <td>001-37580</td>\n",
       "      <td>221330920</td>\n",
       "      <td></td>\n",
       "      <td>11978687</td>\n",
       "      <td>1</td>\n",
       "      <td>1</td>\n",
       "      <td>goog-20220930.htm</td>\n",
       "      <td>10-Q</td>\n",
       "    </tr>\n",
       "  </tbody>\n",
       "</table>\n",
       "</div>"
      ],
      "text/plain": [
       "       accession_number  filingDate  reportDate        acceptanceDateTime act  \\\n",
       "86   000165204424000053  2024-04-26  2024-03-31  2024-04-25T20:22:11.000Z  34   \n",
       "229  000165204423000094  2023-10-25  2023-09-30  2023-10-24T18:39:13.000Z  34   \n",
       "267  000165204423000070  2023-07-26  2023-06-30  2023-07-25T19:13:26.000Z  34   \n",
       "354  000165204423000045  2023-04-26  2023-03-31  2023-04-25T20:15:00.000Z  34   \n",
       "468  000165204422000090  2022-10-26  2022-09-30  2022-10-25T21:32:59.000Z  34   \n",
       "\n",
       "     form fileNumber filmNumber items      size  isXBRL  isInlineXBRL  \\\n",
       "86   10-Q  001-37580   24878285         9730858       1             1   \n",
       "229  10-Q  001-37580  231343621        11654886       1             1   \n",
       "267  10-Q  001-37580  231109777        11897524       1             1   \n",
       "354  10-Q  001-37580   23846486        10731987       1             1   \n",
       "468  10-Q  001-37580  221330920        11978687       1             1   \n",
       "\n",
       "         doc_extension primaryDocDescription  \n",
       "86   goog-20240331.htm                  10-Q  \n",
       "229  goog-20230930.htm                  10-Q  \n",
       "267  goog-20230630.htm                  10-Q  \n",
       "354  goog-20230331.htm                  10-Q  \n",
       "468  goog-20220930.htm                  10-Q  "
      ]
     },
     "execution_count": 5,
     "metadata": {},
     "output_type": "execute_result"
    }
   ],
   "source": [
    "df = get_form_data(user_header=header, cik = test_cik, form_type = form_type)\n",
    "df.head()"
   ]
  },
  {
   "cell_type": "code",
   "execution_count": 6,
   "metadata": {},
   "outputs": [],
   "source": [
    "current = df.iloc[0]\n",
    "test_an = current.accession_number\n",
    "test_extension = current.doc_extension"
   ]
  },
  {
   "cell_type": "code",
   "execution_count": 7,
   "metadata": {},
   "outputs": [],
   "source": [
    "out = extract_mdna(test_cik, test_an, test_extension, user_header= header)"
   ]
  },
  {
   "cell_type": "code",
   "execution_count": 8,
   "metadata": {},
   "outputs": [
    {
     "name": "stdout",
     "output_type": "stream",
     "text": [
      "MANAGEMENT’S DISCUSSION AND ANALYSIS OF FINANCIAL CONDITION AND RESULTS OF OPERATIONSPlease read the following discussion and analysis of our financial condition and results of operations together with \"Note About Forward-Looking Statements\" and our consolidated financial statements and related notes included under Item 1 of this Quarterly Report on Form 10-Q as well as our Annual Report on Form 10-K for the fiscal year ended December 31, 2023, including Part I, Item 1A \"Risk Factors,\" as updated in this Quarterly Report on Form 10-Q.Understanding Alphabet’s Financial ResultsAlphabet is a collection of businesses — the largest of which is Google. We report Google in two segments, Google Services and Google Cloud; we also report all non-Google businesses collectively as Other Bets. For further details on our segments, see Note 13 of the Notes to Consolidated Financial Statements included in Item 1 of this Quarterly Report on Form 10-Q.Revenues and Monetization Metrics We generate revenues by delivering relevant, cost-effective online advertising; cloud-based solutions that provide enterprise customers of all sizes with infrastructure and platform services as well as communication and collaboration tools; sales of other products and services, such as fees received for subscription-based products, apps and in-app purchases, and devices. For additional information on how we recognize revenue, see Note 1 of the Notes to Consolidated Financial Statements included in Part II, Item 8 in our Annual Report on Form 10-K for the fiscal year ended December 31, 2023.In addition to the long-term trends and their financial effect on our business discussed in \"Trends in Our Business and Financial Effect\" in Part II, Item 7 of our Annual Report on Form 10-K for the fiscal year ended December 31, 2023, fluctuations in our revenues have been and may continue to be affected by a combination of factors, including:•changes in foreign currency exchange rates;•changes in pricing, such as those resulting from changes in fee structures, discounts, and customer incentives;•general economic conditions and various external dynamics, including geopolitical events, regulations, and other measures and their effect on advertiser, consumer, and enterprise spending; •new product and service launches; and•seasonality.Additionally, fluctuations in our revenues generated from advertising (\"Google advertising\"), revenues from other sources (\"Google subscriptions, platforms, and devices revenues\"), Google Cloud, and Other Bets revenues have been, and may continue to be, affected by other factors unique to each set of revenues, as described below.Google ServicesGoogle Services revenues consist of Google advertising as well as Google subscriptions, platforms, and devices revenues.Google AdvertisingGoogle advertising revenues are comprised of the following: •Google Search & other, which includes revenues generated on Google search properties (including revenues from traffic generated by search distribution partners who use Google.com as their default search in browsers, toolbars, etc.), and other Google owned and operated properties like Gmail, Google Maps, and Google Play;•YouTube ads, which includes revenues generated on YouTube properties; and•Google Network, which includes revenues generated on Google Network properties participating in AdMob, AdSense, and Google Ad Manager.We use certain metrics to track how well traffic across various properties is monetized as it relates to our advertising revenues: paid clicks and cost-per-click pertain to traffic on Google Search & other properties, while impressions and cost-per-impression pertain to traffic on our Google Network properties.29Paid clicks represent engagement by users and include clicks on advertisements by end-users on Google search properties and other Google owned and operated properties including Gmail, Google Maps, and Google Play. Cost-per-click is defined as click-driven revenues divided by our total number of paid clicks and represents the average amount we charge advertisers for each engagement by users.Impressions include impressions displayed to users on Google Network properties participating primarily in AdMob, AdSense, and Google Ad Manager. Cost-per-impression is defined as impression-based and click-based revenues divided by our total number of impressions, and represents the average amount we charge advertisers for each impression displayed to users.As our business evolves, we periodically review, refine, and update our methodologies for monitoring, gathering, and counting the number of paid clicks and the number of impressions, and for identifying the revenues generated by the corresponding click and impression activity.Fluctuations in our advertising revenues, as well as the change in paid clicks and cost-per-click on Google Search & other properties and the change in impressions and cost-per-impression on Google Network properties and the correlation between these items have been, and may continue to be, affected by factors in addition to the general factors described above, such as:•advertiser competition for keywords;•changes in advertising quality, formats, delivery or policy;•changes in device mix;•seasonal fluctuations in internet usage, advertising expenditures, and underlying business trends, such as traditional retail seasonality; and•traffic growth in emerging markets compared to more mature markets and across various verticals and channels.Google subscriptions, platforms, and devicesGoogle subscriptions, platforms, and devices revenues are comprised of the following:•consumer subscriptions, which primarily include revenues from YouTube services, such as YouTube TV, YouTube Music and Premium, and NFL Sunday Ticket, as well as Google One;•platforms, which primarily include revenues from Google Play from the sales of apps and in-app purchases;•devices, which primarily include sales of the Pixel family of devices; and•other products and services.Fluctuations in our Google subscriptions, platforms, and devices revenues have been, and may continue to be, affected by factors in addition to the general factors described above, such as changes in customer usage and demand, number of subscribers, and fluctuations in the timing of product launches.Google CloudGoogle Cloud revenues are comprised of the following:•Google Cloud Platform, which generates consumption-based fees and subscriptions for infrastructure, platform, and other services. These services provide access to solutions such as cybersecurity, databases, analytics, and AI offerings including our AI infrastructure, Vertex AI platform, and Gemini for Google Cloud;•Google Workspace, which includes subscriptions for cloud-based communication and collaboration tools for enterprises, such as Calendar, Gmail, Docs, Drive, and Meet, with integrated features like Gemini for Google Workspace; and •other enterprise services.Fluctuations in our Google Cloud revenues have been, and may continue to be, affected by factors in addition to the general factors described above, such as customer usage.Other BetsRevenues from Other Bets are generated primarily from the sale of healthcare-related services and internet services.30Costs and ExpensesOur cost structure has two components: cost of revenues and operating expenses. Our operating expenses include costs related to R&D, sales and marketing, and general and administrative functions. Certain of our costs and expenses, including those associated with the operation of our technical infrastructure as well as components of our operating expenses, are generally less variable in nature and may not correlate to changes in revenue. Additionally, fluctuations in compensation expenses may not directly correlate with changes in headcount, in particular due to annual SBC awards that generally vest over four years.Cost of RevenuesCost of revenues is comprised of TAC and other costs of revenues.•TAC includes: ◦amounts paid to our distribution partners who make available our search access points and services. Our distribution partners include browser providers, mobile carriers, original equipment manufacturers, and software developers; and◦amounts paid to Google Network partners primarily for ads displayed on their properties.•Other cost of revenues primarily includes:◦compensation expense related to our data centers and other operations such as content review and customer and product support;◦content acquisition costs, which are payments to content providers from whom we license video and other content for distribution on YouTube and Google Play (we pay fees to these content providers based on revenues generated or a flat fee);◦depreciation expense related to our technical infrastructure; and◦inventory and other costs related to the devices we sell.TAC as a percentage of revenues generated from ads placed on Google Network properties are significantly higher than TAC as a percentage of revenues generated from ads placed on Google Search & other properties, because most of the advertiser revenues from ads served on Google Network properties are paid as TAC to our Google Network partners.Operating ExpensesOperating expenses are generally incurred during our normal course of business, which we categorize as either R&D, sales and marketing, or general and administrative.The main components of our R&D expenses are:•compensation expenses for engineering and technical employees responsible for R&D related to our existing and new products and services; •depreciation; and•third-party services fees primarily relating to consulting and outsourced services in support of our engineering and product development efforts.The main components of our sales and marketing expenses are:•compensation expenses for employees engaged in sales and marketing, sales support, and certain customer service functions; and•spending relating to our advertising and promotional activities in support of our products and services.The main components of our general and administrative expenses are:•compensation expenses for employees in finance, human resources, information technology, legal, and other administrative support functions; •expenses relating to legal matters, including certain fines and settlements; and •third-party services fees, including audit, consulting, outside legal, and other outsourced administrative services.31Other Income (Expense), Net OI&E, net primarily consists of interest income (expense), the effect of foreign currency exchange gains (losses), net gains (losses) and impairment on our marketable and non-marketable securities, performance fees, and income (loss) and impairment from our equity method investments.For additional information, including how we account for our investments and factors that can drive fluctuations in the value of our investments, see Note 1 of the Notes to Consolidated Financial Statements included in Part II, Item 8 and Item 7A, “Quantitative and Qualitative Disclosures About Market Risk” in our Annual Report on Form 10-K for the fiscal year ended December 31, 2023 as well as Note 3 of the Notes to Consolidated Financial Statements included in Item 1 of this Quarterly Report on Form 10-Q.Provision for Income Taxes Provision for income taxes represents the estimated amount of federal, state, and foreign income taxes incurred in the U.S. and the many jurisdictions in which we operate. The provision includes the effect of reserve provisions and changes to reserves that are considered appropriate as well as the related net interest and penalties.For additional information, see Note 1 of the Notes to Consolidated Financial Statements included in Part II, Item 8 in our Annual Report on Form 10-K for the fiscal year ended December 31, 2023 as well as Note 12 of the Notes to Consolidated Financial Statements included in Item 1 of this Quarterly Report on Form 10-Q.Executive OverviewThe following table summarizes our consolidated financial results (in millions, except per share information and percentages):(1)    See \"Use of Non-GAAP Constant Currency Measures\" below for details relating to our use of constant currency information. •Revenues were $80.5 billion, an increase of 15% year over year, primarily driven by an increase in Google Services revenues of $8.4 billion, or 14%, and an increase in Google Cloud revenues of $2.1 billion, or 28%.•Total constant currency revenues, which exclude the effect of hedging, increased 16% year over year.•Cost of revenues was $33.7 billion, an increase of 10% year over year, primarily driven by increases in TAC, content acquisition costs, and depreciation expense. These increases were partially offset by decreases in compensation expenses, largely the result of a reduction in employee severance and related charges, and charges related to our office space optimization efforts.•Operating expenses were $21.4 billion, a decrease of 2% year over year, primarily driven by decreases in charges related to our office space optimization efforts, compensation expenses, largely the result of a reduction in employee severance and related charges, and charges related to legal matters. These decreases were partially offset by an increase in depreciation expense. 32Other Information•On April 25, 2024, the Board of Directors of Alphabet approved the initiation of a cash dividend program, and declared a cash dividend of $0.20 per share that will be paid on June 17, 2024, to stockholders of record as of June 10, 2024, on each of the company’s Class A, Class B, and Class C shares. See Note 9 of the Notes to Consolidated Financial Statements included in Item 8 of this Annual Report on Form 10-Q for additional information.•Repurchases of Class A and Class C shares were $3.4 billion and $12.7 billion, respectively, totaling $16.1 billion for the three months ended March 31, 2024. In April 2024, the Board of Directors of Alphabet authorized the company to repurchase up to an additional $70.0 billion of its Class A and Class C shares. For additional information, see Note 9 of the Notes to Consolidated Financial Statements included in Item 1 of this Quarterly Report on Form 10-Q for additional information.•Compensation expenses included employee severance and related charges for the three months ended March 31, 2024 of $716 million, a $1.3 billion decrease in severance and related charges as compared to the three months ended March 31, 2023. For the first quarter of 2024, these charges are included within cost of revenues, research and development, sales and marketing, and general and administrative expenses in the amounts of $153 million, $247 million, $217 million, and $99 million, respectively.•Operating cash flow was $28.8 billion for the three months ended March 31, 2024.•Capital expenditures, which primarily reflected investments in technical infrastructure, were $12.0 billion for the three months ended March 31, 2024.•As of March 31, 2024, we had 180,895 employees.Financial ResultsRevenuesThe following table presents revenues by type (in millions): Google ServicesGoogle advertising revenuesGoogle Search & otherGoogle Search & other revenues increased $5.8 billion from the three months ended March 31, 2023 to the three months ended March 31, 2024. The overall growth was driven by interrelated factors including increases in search queries resulting from growth in user adoption and usage on mobile devices; growth in advertiser spending; and improvements we have made in ad formats and delivery.YouTube adsYouTube ads revenues increased $1.4 billion from the three months ended March 31, 2023 to the three months ended March 31, 2024. The growth was driven by our direct response and brand advertising products, both of which benefited from increased spending by our advertisers.33Google NetworkGoogle Network revenues decreased $83 million from the three months ended March 31, 2023 to the three months ended March 31, 2024 primarily driven by a decrease in AdSense revenues.Monetization MetricsThe following table presents changes in monetization metrics for Google Search & other revenues (paid clicks and cost-per-click) and Google Network revenues (impressions and cost-per-impression), expressed as a percentage, from three months ended March 31, 2023 to three months ended March 31, 2024:Changes in paid clicks and impressions are driven by a number of interrelated factors, including changes in advertiser spending; ongoing product and policy changes; and, as it relates to paid clicks, fluctuations in search queries resulting from changes in user adoption and usage, primarily on mobile devices.Changes in cost-per-click and cost-per-impression are driven by a number of interrelated factors including changes in device mix, geographic mix, advertiser spending, ongoing product and policy changes, product mix, property mix, and changes in foreign currency exchange rates.Google subscriptions, platforms, and devicesGoogle subscriptions, platforms, and devices revenues increased $1.3 billion from the three months ended March 31, 2023 to the three months ended March 31, 2024, primarily driven by an increase in subscription revenues, largely from growth in the number of paid subscribers for YouTube services.Google CloudGoogle Cloud revenues increased $2.1 billion from the three months ended March 31, 2023 to the three months ended March 31, 2024. Growth was primarily driven by Google Cloud Platform followed by Google Workspace offerings. Google Cloud's infrastructure and platform services were the largest drivers of growth in Google Cloud Platform.Revenues by GeographyThe following table presents revenues by geography as a percentage of revenues, determined based on the addresses of our customers:For additional information, see Note 2 of the Notes to Consolidated Financial Statements included in Item 1 of this Quarterly Report on Form 10-Q.Use of Non-GAAP Constant Currency InformationInternational revenues, which represent a significant portion of our revenues, are generally transacted in multiple currencies and therefore are affected by fluctuations in foreign currency exchange rates.The effect of currency exchange rates on our business is an important factor in understanding period-to-period comparisons. We use non-GAAP constant currency revenues (\"constant currency revenues\") and non-GAAP percentage change in constant currency revenues (\"percentage change in constant currency revenues\") for 34financial and operational decision-making and as a means to evaluate period-to-period comparisons. We believe the presentation of results on a constant currency basis in addition to GAAP results helps improve the ability to understand our performance, because it excludes the effects of foreign currency volatility that are not indicative of our core operating results.Constant currency information compares results between periods as if exchange rates had remained constant period over period. We define constant currency revenues as revenues excluding the effect of foreign currency exchange rate movements (\"FX Effect\") as well as hedging activities, which are recognized at the consolidated level. We use constant currency revenues to determine the constant currency revenue percentage change on a year-on-year basis. Constant currency revenues are calculated by translating current period revenues using prior year comparable period exchange rates, as well as excluding any hedging effects realized in the current period.Constant currency revenue percentage change is calculated by determining the change in current period revenues over prior year comparable period revenues where current period foreign currency revenues are translated using prior year comparable period exchange rates and hedging effects are excluded from revenues of both periods.These results should be considered in addition to, not as a substitute for, results reported in accordance with GAAP. Results on a constant currency basis, as we present them, may not be comparable to similarly titled measures used by other companies and are not a measure of performance presented in accordance with GAAP.The following table presents the foreign currency exchange effect on international revenues and total revenues (in millions, except percentages):(1)Total constant currency revenues of $80.9 billion for the three months ended March 31, 2024 increased $11.2 billion compared to $69.7 billion in revenues, excluding hedging effect, for the three months ended March 31, 2023.EMEA revenue growth was favorably affected by changes in foreign currency exchange rates, primarily due to the U.S. dollar weakening relative to the Euro, partially offset by the U.S. dollar strengthening relative to the Turkish lira.APAC revenue growth was unfavorably affected by changes in foreign currency exchange rates, primarily due to the U.S. dollar strengthening relative to the Japanese yen.Other Americas revenue growth was unfavorably affected by changes in foreign currency exchange rates, primarily due to the U.S. dollar strengthening relative to the Argentine peso.35Costs and ExpensesCost of RevenuesThe following table presents cost of revenues, including TAC (in millions, except percentages):Cost of revenues increased $3.1 billion from the three months ended March 31, 2023 to the three months ended March 31, 2024 due to an increase in other cost of revenues and TAC of $1.9 billion and $1.2 billion, respectively. The increase in TAC from the three months ended March 31, 2023 to the three months ended March 31, 2024 was largely due to an increase in TAC paid to distribution partners, primarily driven by growth in revenues subject to TAC. The TAC rate decreased from 21.5% to 21.0% from the three months ended March 31, 2023 to the three months ended March 31, 2024 primarily due to a revenue mix shift from Google Network properties to Google Search & other properties. The TAC rate on Google Search & other revenues was substantially consistent from the three months ended March 31, 2023 to the three months ended March 31, 2024. The TAC rate on Google Network revenues reflected a slight increase from the three months ended March 31, 2023 to the three months ended March 31, 2024 due to a combination of factors, none of which were individually significant.The increase in other cost of revenues from the three months ended March 31, 2023 to the three months ended March 31, 2024 was primarily due to increases in content acquisition costs, largely for YouTube, and depreciation expense. These increases were partially offset by decreases in compensation expenses, largely the result of a reduction in employee severance and related charges of $308 million, and charges related to our office space optimization efforts of $220 million.Research and DevelopmentThe following table presents R&D expenses (in millions, except percentages):R&D expenses increased $435 million from the three months ended March 31, 2023 to the three months ended March 31, 2024, primarily driven by increases in depreciation expense of $308 million and third-party services fees of $253 million, partially offset by a decrease in charges associated with our office space optimization efforts of $247 million. Additionally, a decrease in compensation expenses of $64 million was primarily the result of a reduction in employee severance and related charges of $588 million. This decrease was partially offset by an increase in SBC expense of $320 million, excluding employee severance and related charges.Sales and MarketingThe following table presents sales and marketing expenses (in millions, except percentages):Sales and marketing expenses decreased $107 million from the three months ended March 31, 2023 to the three months ended March 31, 2024, primarily driven by a decrease in compensation expenses of $85 million, 36largely the result of a reduction in employee severance and related charges of $228 million, partially offset by a combination of factors, none of which were individually significant.General and AdministrativeThe following table presents general and administrative expenses (in millions, except percentages):General and administrative expenses decreased $733 million from the three months ended March 31, 2023 to the three months ended March 31, 2024, primarily driven by a reduction in charges related to legal matters of $248 million and a combination of factors, none of which were individually significant. Segment ProfitabilityThe following table presents segment operating income (loss) (in millions):(1)In addition to the costs included in Alphabet-level activities, hedging gains (losses) related to revenue were $84 million and $72 million for the three months ended March 31, 2023 and 2024, respectively. For the three months ended March 31, 2023 and 2024, Alphabet-level activities included substantially all of the charges related to employee severance and our office space optimization efforts. For additional information relating to our segments, see Note 13 of the Notes to Consolidated Financial Statements included in Item 1 of this Quarterly Report on Form 10-Q.Google ServicesGoogle Services operating income increased $6.2 billion from the three months ended March 31, 2023 to the three months ended March 31, 2024. The increase in operating income was primarily driven by an increase in revenues, partially offset by increases in TAC and content acquisition costs. Additionally, a reduction in compensation expenses contributed to the increase in operating income.Google CloudGoogle Cloud operating income increased $709 million from the three months ended March 31, 2023 to the three months ended March 31, 2024. The increase in operating income was primarily driven by an increase in revenues, partially offset by increases in compensation expenses, largely driven by headcount growth, and usage costs for technical infrastructure assets.Other BetsOther Bets operating loss decreased $205 million from the three months ended March 31, 2023 to the three months ended March 31, 2024 primarily due to growth in revenues.37Other Income (Expense), NetThe following table presents OI&E (in millions):OI&E increased $2.1 billion from the three months ended March 31, 2023 to the three months ended March 31, 2024. The increase was primarily due to net unrealized gains in non-marketable equity securities due to fair value adjustments related to observable transactions and increased interest income due to interest rates. For additional information, see Note 6 of the Notes to Consolidated Financial Statements included in Item 1 of this Quarterly Report on Form 10-Q for further information.Provision for Income TaxesThe following table presents provision for income taxes (in millions, except effective tax rate):The effective tax rate decreased from the three months ended March 31, 2023 to the three months ended March 31, 2024, primarily due to the tax rule change related to U.S. federal foreign tax credits issued by the IRS in July 2023 and an increase in stock-based compensation-related tax benefits, partially offset by a decrease in the U.S. federal Foreign Derived Intangible Income tax deduction and an increase in taxes for certain U.S. jurisdictions.The OECD is coordinating negotiations among more than 140 countries with the goal of achieving consensus around substantial changes to international tax policies, including the implementation of a minimum global effective tax rate of 15%. Some countries have already implemented the legislation effective January 1, 2024, and we expect others to follow, however we do not expect a material change to our income tax provision for the 2024 fiscal year. As additional jurisdictions enact such legislation, transitional rules lapse, and other provisions of the minimum tax legislation become effective, we expect our effective tax rate and cash tax payments could increase in future years.Financial ConditionCash, Cash Equivalents, and Marketable SecuritiesAs of March 31, 2024, we had $108.1 billion in cash, cash equivalents, and short-term marketable securities. Cash equivalents and marketable securities are comprised of time deposits, money market funds, highly liquid government bonds, corporate debt securities, mortgage-backed and asset-backed securities, and marketable equity securities.Sources, Uses of Cash and Related TrendsOur principal sources of liquidity are cash, cash equivalents, and marketable securities, as well as the cash flow that we generate from operations. The primary use of capital continues to be to invest for the long-term growth of the business. We regularly evaluate our cash and capital structure, including the size, pace, and form of capital return to stockholders.38The following table presents our cash flows (in millions):Cash Provided by Operating ActivitiesOur largest source of cash provided by operations are advertising revenues generated by Google Search & other properties, Google Network properties, and YouTube properties. In Google Services, we also generate cash through consumer subscriptions and the sale of apps and in-app purchases and devices. In Google Cloud, we generate cash through consumption-based fees and subscriptions for infrastructure, platform, collaboration tools, and other cloud services.Our primary uses of cash from operating activities include payments to distribution and Google Network partners, to employees for compensation, and to content providers. Other uses of cash from operating activities include payments to suppliers for devices, to tax authorities for income taxes, and other general corporate expenditures.Net cash provided by operating activities increased from the three months ended March 31, 2023 to the three months ended March 31, 2024 due to the increase in cash received from customers, partially offset by an increase in cash payments for cost of revenues and operating expenses. Cash Used in Investing ActivitiesCash provided by investing activities consists primarily of maturities and sales of investments in marketable and non-marketable securities. Cash used in investing activities consists primarily of purchases of marketable and non-marketable securities, purchases of property and equipment, and payments for acquisitions.Net cash used in investing activities increased from the three months ended March 31, 2023 to the three months ended March 31, 2024 primarily due to an increase in purchases of property and equipment.Cash Used in Financing ActivitiesCash provided by financing activities consists primarily of proceeds from issuance of debt and proceeds from the sale of interests in consolidated entities. Cash used in financing activities consists primarily of repurchases of stock, net payments related to stock-based award activities, and repayments of debt.Net cash used in financing activities increased from the three months ended March 31, 2023 to the three months ended March 31, 2024 due to increases in net repayments related to debt, net payments related to stock-based award activities, and repurchases of stock. Liquidity and Material Cash RequirementsWe expect existing cash, cash equivalents, short-term marketable securities, cash flows from operations and financing activities to continue to be sufficient to fund our operating activities and cash commitments for investing and financing activities for at least the next 12 months and thereafter for the foreseeable future.Capital Expenditures and LeasesWe make investments in land and buildings for data centers and offices and information technology assets through purchases of property and equipment and lease arrangements to provide capacity for the growth of our services and products. Capital ExpendituresOur capital investments in property and equipment consist primarily of the following major categories:•technical infrastructure, which consists of our investments in servers and network equipment for computing, storage, and networking requirements for ongoing business activities, including AI, (collectively referred to as our information technology assets) and data center land and building construction; and•office facilities, ground-up development projects, and building improvements (also referred to as \"fit-outs\").39Construction in progress consists primarily of technical infrastructure and office facilities which have not yet been placed in service. The time frame from date of purchase to placement in service of these assets may extend from months to years. For example, our data center construction projects are generally multi-year projects with multiple phases, where we acquire land and buildings, construct buildings, and secure and install information technology assets.During the three months ended March 31, 2023 and 2024, we spent $6.3 billion and $12.0 billion on capital expenditures, respectively. We expect to increase, relative to 2023, our investment in our technical infrastructure, including servers, network equipment, and data centers, to support the growth of our business and our long-term initiatives, in particular in support of AI products and services. Depreciation of our property and equipment commences when the deployment of such assets are completed and are ready for our intended use. Land is not depreciated. For the three months ended March 31, 2023 and 2024, our depreciation on property and equipment was $2.6 billion and $3.4 billion, respectively. LeasesFor the three months ended March 31, 2023 and 2024, we recognized total operating lease assets of $1.1 billion and $0.4 billion, respectively. As of March 31, 2024, the amount of total future lease payments under operating leases, which had a weighted average remaining lease term of 8 years, was $17.2 billion. As of March 31, 2024, we have entered into leases that have not yet commenced with future lease payments of $3.6 billion, that are not yet recorded on our Consolidated Balance Sheets. These leases will commence between 2024 and 2026 with non-cancelable lease terms of one to 25 years. For the three months ended March 31, 2023 and 2024, our operating lease expenses (including variable lease costs) were $1.1 billion and $1.1 billion, respectively. Finance lease costs were not material for the three months ended March 31, 2023 and 2024.FinancingWe have a short-term debt financing program of up to $10.0 billion through the issuance of commercial paper. Net proceeds from this program are used for general corporate purposes. As of March 31, 2024, we had no commercial paper outstanding. As of March 31, 2024, we had $10.0 billion of revolving credit facilities, $4.0 billion expiring in April 2024 and $6.0 billion expiring in April 2028. In April 2024, we entered into a new $4.0 billion revolving credit facility expiring in April 2025.The interest rates for all credit facilities are determined based on a formula using certain market rates, as well as our progress toward the achievement of certain sustainability goals. No amounts have been borrowed under the credit facilities.As of March 31, 2024, we had senior unsecured notes outstanding with a total carrying value of $11.9 billion. For additional information, see Note 5 of the Notes to Consolidated Financial Statements included in Item 1 of this Quarterly Report on Form 10-Q.We primarily utilize contract manufacturers for the assembly of our servers used in our technical infrastructure and devices we sell. We have agreements where we may purchase components directly from suppliers and then supply these components to contract manufacturers for use in the assembly of the servers and devices. Certain of these arrangements result in a portion of the cash received from and paid to the contract manufacturers to be presented as financing activities in the Consolidated Statements of Cash Flows included in Item 1 of this Quarterly Report on Form 10-Q.Share Repurchase ProgramDuring the three months ended March 31, 2024, we repurchased and subsequently retired 111 million shares for $16.1 billion.In April 2023, the Board of Directors of Alphabet authorized the company to repurchase up to $70.0 billion of its Class A and Class C shares. As of March 31, 2024, $20.4 billion remained available for Class A and Class C share repurchases. In April 2024, the Board of Directors of Alphabet authorized the company to repurchase up to an additional $70.0 billion of its Class A and Class C shares.The following table presents Class A and Class C shares repurchased and subsequently retired (in millions):40(1)         Shares repurchased include unsettled repurchases as of March 31, 2024.For additional information, see Note 9 of the Notes to Consolidated Financial Statements included in Item 1 of this Quarterly Report on Form 10-Q.Dividend ProgramOn April 25, 2024, the Board of Directors of Alphabet declared a cash dividend of $0.20 per share to be paid on June 17, 2024, to stockholders of record as of June 10, 2024, on each of the company’s Class A, Class B, and Class C shares.  The company intends to pay quarterly cash dividends in the future, subject to review and approval by the company’s Board of Directors in its sole discretion. In connection with the cash dividend (and any future dividend the company’s Board of Directors may declare from time to time), the company will also award dividend equivalent units to holders of all unvested stock units in accordance with the Alphabet Inc. Amended and Restated 2021 Stock Plan and pursuant to each holder’s outstanding stock unit grant agreements, as amended.European Commission FinesIn 2017, 2018 and 2019, the EC announced decisions that certain actions taken by Google infringed European competition law and imposed fines of €2.4 billion ($2.7 billion as of June 27, 2017), €4.3 billion ($5.1 billion as of June 30, 2018), and €1.5 billion ($1.7 billion as of March 20, 2019), respectively. On September 14, 2022, the General Court reduced the 2018 fine from €4.3 billion to €4.1 billion. We subsequently filed an appeal to the European Court of Justice.While each EC decision is under appeal, we included the fines in accrued expenses and other current liabilities on our Consolidated Balance Sheets as we provided bank guarantees (in lieu of a cash payment) for the fines. For additional information, see Note 8 of the Notes to Consolidated Financial Statements included in Item 1 of this Quarterly Report on Form 10-Q.TaxesAs of March 31, 2024, we had income taxes payable of $4.2 billion, of which $2.1 billion was short-term, related to a one-time transition tax payable incurred as a result of the U.S. Tax Cuts and Jobs Act (\"Tax Act\"). As permitted by the Tax Act, we will pay the transition tax in annual interest-free installments through 2025. We also have long-term taxes payable of $7.1 billion primarily related to uncertain tax positions as of March 31, 2024. Purchase Commitments and Other Contractual ObligationsAs of March 31, 2024, we had material purchase commitments and other contractual obligations of $44.0 billion, of which $29.4 billion was short-term. These amounts primarily consist of purchase orders for certain technical infrastructure as well as the non-cancelable portion or the minimum cancellation fee in certain agreements related to commitments to purchase licenses, including content licenses, inventory and network capacity. For those agreements with variable terms, we do not estimate the non-cancelable obligation beyond any minimum quantities and/or pricing as of March 31, 2024. In certain instances, the amount of our contractual obligations may change based on the expected timing of order fulfillment from our suppliers. For more information related to our content licenses, see Note 8 of the Notes to Consolidated Financial Statements included in Item I of this Quarterly Report on Form 10-Q. In addition we regularly enter into multi-year, non-cancellable agreements to purchase renewable energy and energy attributes, such as renewable energy certificates. These agreements do not include a minimum dollar commitment. The amounts to be paid under these agreements are based on the actual volumes to be generated and are not readily determinable.Critical Accounting EstimatesSee Part II, Item 7, \"Critical Accounting Estimates\" in our Annual Report on Form 10-K for the year ended December 31, 2023. 41Available InformationOur website is located at www.abc.xyz, and our investor relations website is located at www.abc.xyz/investor. Access to our Annual Reports on Form 10-K, Quarterly Reports on Form 10-Q, Current Reports on Form 8-K, and our Proxy Statements, and any amendments to these reports, is available on our investor relations website, free of charge, after we file or furnish them with the SEC and they are available on the SEC's website at www.sec.gov.We webcast via our investor relations website our earnings calls and certain events we participate in or host with members of the investment community. Our investor relations website also provides notifications of news or announcements regarding our financial performance and other items of interest to our investors, including SEC filings, investor events, press and earnings releases, and blogs. We also share Google news and product updates on Google’s Keyword blog at https://www.blog.google/, which may be of interest or material to our investors. Further, corporate governance information, including our certificate of incorporation, bylaws, governance guidelines, board committee charters, and code of conduct, is also available on our investor relations website under the heading \"Governance.\" The content of our websites is not incorporated by reference into this Quarterly Report on Form 10-Q or in any other report or document we file with the SEC, and any references to our websites are intended to be inactive textual references only.\n"
     ]
    }
   ],
   "source": [
    "print(out)"
   ]
  }
 ],
 "metadata": {
  "language_info": {
   "name": "python"
  }
 },
 "nbformat": 4,
 "nbformat_minor": 2
}
